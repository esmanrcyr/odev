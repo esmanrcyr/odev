{
 "cells": [
  {
   "cell_type": "markdown",
   "metadata": {},
   "source": [
    "#### Ödev 1\n",
    "Kullanıcıdan pi değeri ve yarıçap bilgisi alarak dairenin alanını hesaplayan bir fonksiyon oluşturulur."
   ]
  },
  {
   "cell_type": "code",
   "execution_count": 80,
   "metadata": {},
   "outputs": [
    {
     "name": "stdout",
     "output_type": "stream",
     "text": [
      "75\n"
     ]
    }
   ],
   "source": [
    "\n",
    "def dairenin_alani(pi,yarıcap):\n",
    "    pi=int(input(\"pi degerini giriniz\"))\n",
    "    yarıcap=int(input(\"yarıçap giriniz\"))\n",
    "    sonuc=pi*(yarıcap**2)\n",
    "    print(sonuc)\n",
    "dairenin_alani(\"pi\",\"yarıcap\")\n",
    "\n"
   ]
  },
  {
   "cell_type": "markdown",
   "metadata": {},
   "source": [
    "#### Ödev 2\n",
    "\n",
    "Faktöriyel adında fonksiyon oluşturulur. Döngü kullanarak parametre olarak girilen sayının faktöriyeli hesaplanır. Format metodunu kullanılarak ekrana yazdırılır."
   ]
  },
  {
   "cell_type": "code",
   "execution_count": 77,
   "metadata": {},
   "outputs": [
    {
     "name": "stdout",
     "output_type": "stream",
     "text": [
      "5 sayısının faktöriyeli 120\n"
     ]
    }
   ],
   "source": [
    "def faktöriyel_hesap(sayı):\n",
    "    sayı=int(input(\"faktöriyeli hesaplanacak sayıyı giriniz\"))\n",
    "    faktöriyel=1\n",
    "    if sayı>=0:\n",
    "        for i in range(1,sayı+1):\n",
    "            faktöriyel *= i\n",
    "        print(\"{} sayısının faktöriyeli {}\".format(sayı,faktöriyel))\n",
    "faktöriyel_hesap(\"sayı\")\n",
    "    \n",
    "\n",
    "            \n",
    "    "
   ]
  },
  {
   "cell_type": "markdown",
   "metadata": {},
   "source": [
    "#### Ödev 3\n",
    "Kişinin fonksiyona doğum yılını vererek kaç yaşında olduğunu hesaplayan bir fonksiyon oluşturun. "
   ]
  },
  {
   "cell_type": "code",
   "execution_count": 76,
   "metadata": {},
   "outputs": [
    {
     "name": "stdout",
     "output_type": "stream",
     "text": [
      "25\n"
     ]
    }
   ],
   "source": [
    "def yaş_hesabı(dogum_yılı):\n",
    "    dogum_yılı=int(input(\"dogum yılınızı giriniz\"))\n",
    "    yaş=2024-dogum_yılı\n",
    "    print(yaş)\n",
    "yaş_hesabı(\"dogum yılı\")"
   ]
  },
  {
   "cell_type": "markdown",
   "metadata": {},
   "source": [
    "#### Ödev 4\n",
    "\n",
    "Doğum yılı ve isim bilgisi verilen fonksiyon kişinin emekli olup olmadığını söylesin.(Kişi 65 yaşında ise emekli olur.) Burada yaş hesabını yukarıdaki örnekteki fonksiyonu kullanarak yapsın.(Yani fonksiyon içinde fonksiyon kullanmanızı istiyorum :)) Kişi 65 yaşında ya da daha fazlaysa \"Emekli oldunuz\" yanıtını, 65 yaşından küçükse emekliliğine kaç yıl kaldığını da hesaplayarak \"(isim) emekliliğine (yıl) kaldı.\" yanıtını versin."
   ]
  },
  {
   "cell_type": "code",
   "execution_count": 75,
   "metadata": {},
   "outputs": [
    {
     "name": "stdout",
     "output_type": "stream",
     "text": [
      "salih emekliligine 40 kaldı\n"
     ]
    }
   ],
   "source": [
    "def emekli(dogumyılı) :\n",
    "    dogumyılı=int(input(\"dogum yılınızı giriniz\"))\n",
    "    isim=input(\"isminizi giriniz\")\n",
    "    yaş=2024-dogumyılı\n",
    "    if yaş>=65:\n",
    "        print(\"emekli oldunuz\")\n",
    "    else :\n",
    "       kalan=65-yaş\n",
    "       print(\"{} emekliligine {} yıl  kaldı\".format(isim,kalan))\n",
    "emekli(\"dogumyılı\")"
   ]
  }
 ],
 "metadata": {
  "kernelspec": {
   "display_name": "Python 3",
   "language": "python",
   "name": "python3"
  },
  "language_info": {
   "codemirror_mode": {
    "name": "ipython",
    "version": 3
   },
   "file_extension": ".py",
   "mimetype": "text/x-python",
   "name": "python",
   "nbconvert_exporter": "python",
   "pygments_lexer": "ipython3",
   "version": "3.11.8"
  }
 },
 "nbformat": 4,
 "nbformat_minor": 2
}
